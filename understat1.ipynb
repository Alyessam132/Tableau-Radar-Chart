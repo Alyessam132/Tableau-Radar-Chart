{
 "cells": [
  {
   "cell_type": "code",
   "execution_count": 3,
   "id": "cb757fa4-f4df-4594-90c7-ad7b1357bd6e",
   "metadata": {
    "editable": true,
    "slideshow": {
     "slide_type": ""
    },
    "tags": []
   },
   "outputs": [],
   "source": [
    "import asyncio\n",
    "import json\n",
    "import numpy as np\n",
    "import pandas as pd\n",
    "import aiohttp\n",
    "import nest_asyncio\n",
    "import warnings\n",
    "warnings.filterwarnings('ignore')\n",
    "nest_asyncio.apply()\n",
    "\n",
    "from understatapi import UnderstatClient\n",
    "\n",
    "understat = UnderstatClient()"
   ]
  },
  {
   "cell_type": "code",
   "execution_count": 4,
   "id": "9f5c0e32-3856-4bf8-917a-74252693f0ec",
   "metadata": {
    "editable": true,
    "slideshow": {
     "slide_type": ""
    },
    "tags": []
   },
   "outputs": [],
   "source": [
    "leagues = ['EPL','Bundesliga','Ligue_1','Serie_A','La_Liga']\n",
    "years = np.arange(2014,2025)\n",
    "#leagues = ['la_liga']\n",
    "df_players = pd.DataFrame()\n",
    "for league_w in leagues:\n",
    "    for year in years:\n",
    "        df_league_season = pd.DataFrame(understat.league(league=league_w).get_player_data(season=str(year)))\n",
    "        df_league_season['season'] = year \n",
    "        df_players = pd.concat([df_players,df_league_season])\n"
   ]
  },
  {
   "cell_type": "code",
   "execution_count": 5,
   "id": "c0a8faf4-139b-4fa0-83dc-b887b4abe354",
   "metadata": {
    "tags": []
   },
   "outputs": [],
   "source": [
    "df_players_copy = df_players.copy()\n",
    "int_cols =  ['id' ,'games', 'time', 'goals', 'assists','shots', 'key_passes', 'yellow_cards', 'red_cards',\n",
    "        'npg']\n",
    "float_cols = ['xG', 'xA','npxG', 'xGChain', 'xGBuildup']\n",
    "\n",
    "df_players[float_cols] = df_players[float_cols].astype('float')\n",
    "df_players[int_cols] = df_players[int_cols].astype('uint32')\n",
    "\n",
    "df_players_time = df_players[df_players['time'] >= 1000]\n",
    "\n",
    "P90_cols = ['goals', 'assists','shots', 'key_passes','npg','xG', 'xA','npxG', 'xGChain', 'xGBuildup']\n",
    "percent = list(np.char.add('Percentile_', P90_cols))\n",
    "p90_pre = list(np.char.add(P90_cols,'P90'))\n",
    "for i in range(0,len(P90_cols)):\n",
    "    df_players_time[p90_pre[i]] = (df_players_time[P90_cols[i]]/df_players_time['time']) * 90\n",
    "    df_players_time[percent[i]] = df_players_time.groupby('season')[p90_pre[i]].rank(pct=True)*100"
   ]
  },
  {
   "cell_type": "code",
   "execution_count": 6,
   "id": "d87281f1-58a7-4c87-b3aa-ccb93662e52f",
   "metadata": {
    "tags": []
   },
   "outputs": [],
   "source": [
    "id_cols = ['id','player_name','team_title','season']\n",
    "value_cols = set(df_players_time.columns) - set(id_cols)\n",
    "df_players_unpivot = pd.melt(df_players_time,id_vars = id_cols, value_vars = value_cols,   var_name = 'Measure', \n",
    "       value_name = 'value')"
   ]
  },
  {
   "cell_type": "code",
   "execution_count": 42,
   "id": "7192177e-29cf-46b7-82a1-bdff3a368776",
   "metadata": {
    "editable": true,
    "slideshow": {
     "slide_type": ""
    },
    "tags": []
   },
   "outputs": [],
   "source": [
    "playmaking_cols = ['Percentile_assists','Percentile_key_passes','Percentile_xA','Percentile_xGChain']\n",
    "id_play = id_cols + playmaking_cols \n",
    "df_playmaking = df_players_time[id_play].copy()\n",
    "df_playmaking2024 = df_playmaking[df_playmaking['season'] == 2020].copy()\n",
    "df_playmaking2024['avg_assists'] = df_playmaking2024[playmaking_cols].sum(axis=1)/len(playmaking_cols)\n",
    "df_playmaking2024['rank_play'] = df_playmaking2024['avg_assists'].rank(ascending = False)\n",
    "df_playmaking2024.sort_values(by = ['rank_play']).to_csv('playmaking.csv')"
   ]
  },
  {
   "cell_type": "code",
   "execution_count": 45,
   "id": "c1c5a027-83e2-4ef0-addd-0d878232a671",
   "metadata": {
    "editable": true,
    "slideshow": {
     "slide_type": ""
    },
    "tags": []
   },
   "outputs": [],
   "source": [
    "goals_cols = ['Percentile_goals','Percentile_shots','Percentile_npxG',]\n",
    "id_play = id_cols + goals_cols \n",
    "df_goals = df_players_time[id_play].copy()\n",
    "df_goals2024 = df_goals[df_goals['season'] == 2024].copy()\n",
    "df_goals2024['avg_assists'] = df_goals2024[goals_cols].sum(axis=1)/len(goals_cols)\n",
    "df_goals2024['rank_play'] = df_goals2024['avg_assists'].rank(ascending = False)\n",
    "df_goals2024.sort_values(by = ['rank_play']).to_csv('goals.csv')"
   ]
  },
  {
   "cell_type": "code",
   "execution_count": 77,
   "id": "2c96374e-2e10-4b7a-ae97-6f002b2a4733",
   "metadata": {
    "tags": []
   },
   "outputs": [],
   "source": [
    "\n",
    "conditions = [\n",
    "    df_shots['h_a'] == 'h',\n",
    "    df_shots['h_a'] == 'a']\n",
    "choices = [df_shots['h_team'], df_shots['a_team']]\n",
    "df_shots['team'] = np.select(conditions, choices)\n",
    "\n",
    "oppconditions = [\n",
    "    df_shots['h_a'] == 'h',\n",
    "    df_shots['h_a'] == 'a']\n",
    "oppchoices = [df_shots['a_team'], df_shots['h_team']]\n",
    "df_shots['opp_team'] = np.select(oppconditions, oppchoices)\n",
    "#df_shots.to_csv('df_shots.csv',index = False)"
   ]
  },
  {
   "cell_type": "code",
   "execution_count": 28,
   "id": "27cfcb8a-ef70-455e-a77b-20bbc486096c",
   "metadata": {
    "tags": []
   },
   "outputs": [],
   "source": [
    "df_radar = pd.read_csv('radar_data.csv')\n",
    "measure_df = pd.DataFrame(df_players_unpivot['Measure'].unique(),columns = ['Name'])\n",
    "measure_radar_df = pd.merge(df_radar,measure_df,how=\"cross\")\n"
   ]
  },
  {
   "cell_type": "code",
   "execution_count": 34,
   "id": "dad5ded4-afab-427b-9470-57de0c5c391b",
   "metadata": {
    "tags": []
   },
   "outputs": [],
   "source": [
    "cols_to_drop = ['Exclude Grid Line','Line Radius','Line Radius Previous','Number of Records','Point Modified']\n",
    "measure_radar_df.drop(columns = cols_to_drop,inplace= True)"
   ]
  },
  {
   "cell_type": "code",
   "execution_count": 35,
   "id": "0698aaab-8bd9-4e19-959b-2a6adaa47b23",
   "metadata": {
    "tags": []
   },
   "outputs": [],
   "source": [
    "df_players_unpivot.to_csv('players_data.csv',index = False,encoding = 'utf_8_sig')\n",
    "measure_radar_df.to_csv('radar_final_data.csv',index = False,encoding = 'utf_8_sig')\n",
    "#df_shots.to_csv('shots_data.csv',index = False,encoding = 'utf_8_sig')"
   ]
  },
  {
   "cell_type": "code",
   "execution_count": null,
   "id": "3d00b6d0-374e-4442-9178-1d0983f9946a",
   "metadata": {},
   "outputs": [],
   "source": []
  },
  {
   "cell_type": "code",
   "execution_count": null,
   "id": "5df13f7f-a60d-4da3-a178-e01b22498f26",
   "metadata": {},
   "outputs": [],
   "source": []
  },
  {
   "cell_type": "code",
   "execution_count": 15,
   "id": "fbda216d-1998-4cfd-90c1-dac6c23431f4",
   "metadata": {
    "tags": []
   },
   "outputs": [
    {
     "data": {
      "text/html": [
       "<div>\n",
       "<style scoped>\n",
       "    .dataframe tbody tr th:only-of-type {\n",
       "        vertical-align: middle;\n",
       "    }\n",
       "\n",
       "    .dataframe tbody tr th {\n",
       "        vertical-align: top;\n",
       "    }\n",
       "\n",
       "    .dataframe thead th {\n",
       "        text-align: right;\n",
       "    }\n",
       "</style>\n",
       "<table border=\"1\" class=\"dataframe\">\n",
       "  <thead>\n",
       "    <tr style=\"text-align: right;\">\n",
       "      <th></th>\n",
       "      <th>0</th>\n",
       "      <th>1</th>\n",
       "      <th>2</th>\n",
       "      <th>3</th>\n",
       "    </tr>\n",
       "  </thead>\n",
       "  <tbody>\n",
       "    <tr>\n",
       "      <th>0</th>\n",
       "      <td>24.647686</td>\n",
       "      <td>76.697159</td>\n",
       "      <td>79.110500</td>\n",
       "      <td>39.093332</td>\n",
       "    </tr>\n",
       "    <tr>\n",
       "      <th>1</th>\n",
       "      <td>25.355578</td>\n",
       "      <td>82.427280</td>\n",
       "      <td>57.185101</td>\n",
       "      <td>49.593952</td>\n",
       "    </tr>\n",
       "    <tr>\n",
       "      <th>2</th>\n",
       "      <td>20.510010</td>\n",
       "      <td>78.729596</td>\n",
       "      <td>79.625960</td>\n",
       "      <td>41.480369</td>\n",
       "    </tr>\n",
       "    <tr>\n",
       "      <th>3</th>\n",
       "      <td>21.203612</td>\n",
       "      <td>84.403827</td>\n",
       "      <td>62.263748</td>\n",
       "      <td>48.998209</td>\n",
       "    </tr>\n",
       "    <tr>\n",
       "      <th>4</th>\n",
       "      <td>25.240099</td>\n",
       "      <td>75.995099</td>\n",
       "      <td>78.897178</td>\n",
       "      <td>39.086858</td>\n",
       "    </tr>\n",
       "    <tr>\n",
       "      <th>5</th>\n",
       "      <td>21.013202</td>\n",
       "      <td>77.791494</td>\n",
       "      <td>80.219340</td>\n",
       "      <td>41.162419</td>\n",
       "    </tr>\n",
       "    <tr>\n",
       "      <th>6</th>\n",
       "      <td>20.131655</td>\n",
       "      <td>86.853976</td>\n",
       "      <td>61.817597</td>\n",
       "      <td>48.865891</td>\n",
       "    </tr>\n",
       "    <tr>\n",
       "      <th>7</th>\n",
       "      <td>21.186566</td>\n",
       "      <td>77.432822</td>\n",
       "      <td>80.411911</td>\n",
       "      <td>41.081692</td>\n",
       "    </tr>\n",
       "    <tr>\n",
       "      <th>8</th>\n",
       "      <td>17.411142</td>\n",
       "      <td>85.366548</td>\n",
       "      <td>59.845404</td>\n",
       "      <td>53.636589</td>\n",
       "    </tr>\n",
       "    <tr>\n",
       "      <th>9</th>\n",
       "      <td>32.994632</td>\n",
       "      <td>74.416428</td>\n",
       "      <td>25.930484</td>\n",
       "      <td>67.818019</td>\n",
       "    </tr>\n",
       "  </tbody>\n",
       "</table>\n",
       "</div>"
      ],
      "text/plain": [
       "           0          1          2          3\n",
       "0  24.647686  76.697159  79.110500  39.093332\n",
       "1  25.355578  82.427280  57.185101  49.593952\n",
       "2  20.510010  78.729596  79.625960  41.480369\n",
       "3  21.203612  84.403827  62.263748  48.998209\n",
       "4  25.240099  75.995099  78.897178  39.086858\n",
       "5  21.013202  77.791494  80.219340  41.162419\n",
       "6  20.131655  86.853976  61.817597  48.865891\n",
       "7  21.186566  77.432822  80.411911  41.081692\n",
       "8  17.411142  85.366548  59.845404  53.636589\n",
       "9  32.994632  74.416428  25.930484  67.818019"
      ]
     },
     "execution_count": 15,
     "metadata": {},
     "output_type": "execute_result"
    }
   ],
   "source": [
    "percentiles = df_players_time[df_players_time['season'] == 2024][percent]\n",
    "data = percentiles.copy()\n",
    "from sklearn.cluster import KMeans\n",
    "from sklearn.datasets import make_blobs\n",
    "from sklearn.metrics import silhouette_score, davies_bouldin_score, calinski_harabasz_score\n",
    "import matplotlib.pyplot as plt\n",
    "\"\"\"\n",
    "labels = kmeans.labels_\n",
    "centroids = kmeans.cluster_centers_\n",
    "plt.scatter(centroids[:, 0], centroids[:, 1], c='red', s=200, alpha=0.75)\n",
    "plt.show()\n",
    "\"\"\"\n",
    "\"\"\"\n",
    "inertia = []\n",
    "for k in range(1, 10):\n",
    "    kmeans = KMeans(n_clusters=k).fit(data)\n",
    "    inertia.append(kmeans.inertia_)\n",
    "plt.plot(range(1, 10), inertia, marker='o')\n",
    "plt.xlabel('Number of clusters')\n",
    "plt.ylabel('Inertia')\n",
    "plt.show()\n",
    "\"\"\"\n",
    "kmeans = KMeans(n_clusters=4).fit(data)\n",
    "labels = kmeans.labels_\n",
    "centroids = kmeans.cluster_centers_\n",
    "pd.DataFrame(centroids).T"
   ]
  }
 ],
 "metadata": {
  "kernelspec": {
   "display_name": "Python 3 (ipykernel)",
   "language": "python",
   "name": "python3"
  },
  "language_info": {
   "codemirror_mode": {
    "name": "ipython",
    "version": 3
   },
   "file_extension": ".py",
   "mimetype": "text/x-python",
   "name": "python",
   "nbconvert_exporter": "python",
   "pygments_lexer": "ipython3",
   "version": "3.12.3"
  }
 },
 "nbformat": 4,
 "nbformat_minor": 5
}
